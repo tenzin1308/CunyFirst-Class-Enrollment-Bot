{
 "cells": [
  {
   "cell_type": "code",
   "execution_count": 9,
   "metadata": {},
   "outputs": [
    {
     "data": {
      "text/plain": [
       "'641d687ab349d2d67eb804647f1753e5'"
      ]
     },
     "execution_count": 9,
     "metadata": {},
     "output_type": "execute_result"
    }
   ],
   "source": [
    "import os\n",
    "os.environ.get('TWILIO_AUTH_TOKEN')\n"
   ]
  },
  {
   "cell_type": "markdown",
   "metadata": {},
   "source": [
    "### Twilio SMS"
   ]
  },
  {
   "cell_type": "code",
   "execution_count": 10,
   "metadata": {},
   "outputs": [
    {
     "name": "stdout",
     "output_type": "stream",
     "text": [
      "ACc44428eadbebe6b773ea40e9c89d8d02\n",
      "641d687ab349d2d67eb804647f1753e5\n"
     ]
    }
   ],
   "source": [
    "\n",
    "\n",
    "\n"
   ]
  },
  {
   "cell_type": "code",
   "execution_count": null,
   "metadata": {},
   "outputs": [],
   "source": []
  },
  {
   "cell_type": "code",
   "execution_count": null,
   "metadata": {},
   "outputs": [],
   "source": []
  },
  {
   "cell_type": "code",
   "execution_count": null,
   "metadata": {},
   "outputs": [],
   "source": [
    "#!/usr/bin/env python\n",
    "\n",
    "# libaries\n",
    "import os\n",
    "import time\n",
    "from selenium import webdriver\n",
    "from selenium.webdriver.common.keys import Keys\n",
    "from selenium.webdriver.common.by import By\n",
    "from selenium.webdriver.support.ui import WebDriverWait\n",
    "from selenium.webdriver.support import expected_conditions as EC\n",
    "from twilio.rest import Client\n",
    "\n",
    "\n",
    "class CunyEnrollmentBot:\n",
    "    \n",
    "    def __init__(self, username, password, link, to_phone_num='+16468973317',msg=''):\n",
    "        \n",
    "        \"\"\"\n",
    "        If you donot have the Chrome driver on your machine you need to download one.\n",
    "        You can download it from the link https://chromedriver.chromium.org/downloads\n",
    "        \"\"\"\n",
    "        # path for chromedriver\n",
    "        self.PATH = \"/Users/tenzintashi/Downloads/chromedriver\"\n",
    "        \n",
    "        # use Chrome as the browser\n",
    "#         self.driver =  webdriver.PhantomJS()\n",
    "        self.driver = webdriver.Chrome(self.PATH)\n",
    "\n",
    "        self.link = link\n",
    "        self.USERNAME = username #username\n",
    "        self.PASSWORD = password #password\n",
    "        self.driver.get(self.link)\n",
    "        # Website to access\n",
    "        # https://home.cunyfirst.cuny.edu/psp/cnyepprd/EMPLOYEE/EMPL/h/?tab=DEFAULT\n",
    "        \n",
    "        # For sending sms \n",
    "        self.account_sid = os.environ.get('TWILIO_ACCOUNT_SID')\n",
    "        self.auth_token = os.environ.get('TWILIO_AUTH_TOKEN')\n",
    "        self.from_phone_num = '+19292034870'\n",
    "        self.to_phone_num = to_phone_num\n",
    "        if msg == '':\n",
    "            self.msg=\"We have added a to your schedule\"\n",
    "        else:\n",
    "            self.msg=msg\n",
    "\n",
    "\n",
    "        \n",
    "    def login(self):\n",
    "        # login process\n",
    "        search_username = self.driver.find_element_by_id(\"CUNYfirstUsernameH\")\n",
    "        search_password = self.driver.find_element_by_id(\"CUNYfirstPassword\")\n",
    "        search_enter = self.driver.find_element_by_id(\"submit\")\n",
    "\n",
    "        search_username.send_keys(self.USERNAME)\n",
    "\n",
    "        search_password.send_keys(self.PASSWORD)\n",
    "\n",
    "        search_enter.send_keys(Keys.RETURN)\n",
    "\n",
    "        time.sleep(2)\n",
    "    \n",
    "    def stop(self):\n",
    "        self.driver.quit\n",
    "        \n",
    "    def send_sms(self):\n",
    "        client = Client(self.account_sid, self.auth_token)\n",
    "        client.messages.create(from_=self.from_phone_num,\n",
    "                               to=self.tp_phone_num,\n",
    "                               body=self.msg)\n",
    "    \n",
    "    def run(self):\n",
    "        try:\n",
    "            self.login()\n",
    "            while True:\n",
    "                shoppingcartlen = len(self.driver.find_elements_by_xpath(\"//table[@id='SSR_REGFORM_VW$scroll$0']/tbody/tr\")) - 2\n",
    "                shoppingcart = {}\n",
    "                for i in range(shoppingcartlen):\n",
    "                    classinfo = self.driver.find_element_by_id(\"trSSR_REGFORM_VW$0_row\" + str(i+1)).text\n",
    "                    classname = classinfo.split()[0]+\" \"+classinfo.split()[1]\n",
    "                    status = self.driver.find_element_by_xpath(\"//div[@id='win0divDERIVED_REGFRM1_SSR_STATUS_LONG$\" + str(i) + \"']/div/img\").get_attribute('alt')\n",
    "                    shoppingcart[classname] = status\n",
    "\n",
    "                # Enroll if a course status change to open\n",
    "                if \"Open\" in shoppingcart.values(): \n",
    "                    # Show 'the course is open' msg in the console\n",
    "                    print(\"Course status changed to open\")\n",
    "\n",
    "                    # Proceed to enrollment\n",
    "                    proceed_btn = WebDriverWait(self.driver, 10).until(\n",
    "                        EC.presence_of_element_located((By.ID, \"DERIVED_REGFRM1_LINK_ADD_ENRL$82$\"))\n",
    "                    )\n",
    "                    proceed_btn.click()\n",
    "\n",
    "                    # Finish enrollment\n",
    "                    finish_enroll_btn = WebDriverWait(self.driver, 10).until(\n",
    "                        EC.presence_of_element_located((By.ID, \"DERIVED_REGFRM1_SSR_PB_SUBMIT\"))\n",
    "                    )\n",
    "                    finish_enroll_btn.click()\n",
    "                    time.sleep(2)\n",
    "\n",
    "                self.driver.get(self.link)\n",
    "\n",
    "                if shoppingcartlen > len(self.driver.find_elements_by_xpath(\"//table[@id='SSR_REGFORM_VW$scroll$0']/tbody/tr\")) - 2:\n",
    "                    shoppingcartlen = len(self.driver.find_elements_by_xpath(\"//table[@id='SSR_REGFORM_VW$scroll$0']/tbody/tr\")) - 2\n",
    "\n",
    "                    # Show 'course added' msg in the console\n",
    "                    print(\"Course successfully added !!!\")\n",
    "#                     self.send_sms()\n",
    "                if shoppingcartlen == 0:\n",
    "                    break\n",
    "\n",
    "                time.sleep(2)\n",
    "        finally:\n",
    "            self.stop()\n",
    "    \n",
    "    \n",
    "\n",
    "if __name__ == \"__main__\":\n",
    "    Username = \"USERNAME\"\n",
    "    Password =  \"PASSWORD\"\n",
    "    Shopping_cart_link = \"Link\"\n",
    "    tenzin_cuny = CunyEnrollmentBot(Username , Password, Shopping_cart_link)\n",
    "    tenzin_cuny.run()"
   ]
  },
  {
   "cell_type": "code",
   "execution_count": null,
   "metadata": {},
   "outputs": [],
   "source": []
  },
  {
   "cell_type": "code",
   "execution_count": null,
   "metadata": {},
   "outputs": [],
   "source": []
  }
 ],
 "metadata": {
  "kernelspec": {
   "display_name": "Python 3",
   "language": "python",
   "name": "python3"
  },
  "language_info": {
   "codemirror_mode": {
    "name": "ipython",
    "version": 3
   },
   "file_extension": ".py",
   "mimetype": "text/x-python",
   "name": "python",
   "nbconvert_exporter": "python",
   "pygments_lexer": "ipython3",
   "version": "3.7.6"
  }
 },
 "nbformat": 4,
 "nbformat_minor": 4
}
